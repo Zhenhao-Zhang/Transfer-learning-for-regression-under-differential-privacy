{
 "cells": [
  {
   "cell_type": "markdown",
   "id": "0abf6db9",
   "metadata": {},
   "source": [
    "<h1>Transfer learning for regression under differential privacy</h1>"
   ]
  },
  {
   "cell_type": "markdown",
   "id": "d7b093fb",
   "metadata": {},
   "source": [
    "<h1>生成数据训练模型</h1>"
   ]
  },
  {
   "cell_type": "markdown",
   "id": "d11f8b52",
   "metadata": {},
   "source": [
    "<h1>导入库</h1>"
   ]
  },
  {
   "cell_type": "code",
   "execution_count": 30,
   "id": "d00f2de8",
   "metadata": {},
   "outputs": [],
   "source": [
    "import numpy as np \n",
    "import random"
   ]
  },
  {
   "cell_type": "markdown",
   "id": "b1036221",
   "metadata": {},
   "source": [
    "<h1>求解Lasso</h1>"
   ]
  },
  {
   "cell_type": "code",
   "execution_count": 31,
   "id": "7bcfec24",
   "metadata": {
    "scrolled": true
   },
   "outputs": [],
   "source": [
    "# encoding: utf-8\n",
    "\n",
    "alpha = 0.0001\n",
    "Lambda = 0.1\n",
    "# 精度设定\n",
    "epsilon = 1e-8\n",
    "#api\n",
    "def norm1(w,Lambda):\n",
    "    cnt=[]\n",
    "    for i in w:\n",
    "        cnt.append(Lambda*abs(i))\n",
    "    return cnt\n",
    "\n",
    "def add_laplace_noise(u,b,n):\n",
    "    laplace_noise = np.random.laplace(u,b,n) # 产生Laplace分布的噪声\n",
    "    return laplace_noise\n",
    "\n",
    "#https://blog.csdn.net/weixin_35757704/article/details/109147968\n",
    "# 采用梯度下降法求解一元线性回归\n",
    "def solve_by_gradient(x,y):\n",
    "    # 获取循环的长度\n",
    "    m = len(x)\n",
    "    a, b,= [0 for i in range(len(x[0]))],0\n",
    "    for i in range(50):\n",
    "        grad_a, grad_b = [0 for i in range(len(x[0]))], 0\n",
    "        grad_a+=add_laplace_noise(0,sum(a)/len(a),len(grad_a))\n",
    "        for i in range(m):\n",
    "            # 求（a*x(i)+b-y[i])的a,b偏导\n",
    "            # 这里使用common感觉更好,公式相同处\n",
    "            common=0\n",
    "            for j in range(len(x[i])):\n",
    "                common+= a[j] * x[i][j]\n",
    "            common+=b\n",
    "            common-=y[i]\n",
    "            common*=2\n",
    "            #print(common)\n",
    "            for j in range(len(x[i])):\n",
    "                grad_a[j]+=x[i][j] * common\n",
    "            grad_a+=norm1(a,Lambda)\n",
    "            grad_b += common\n",
    "            #print(\"gr1\",grad_a,grad_b)\n",
    "            for j in range(len(grad_a)):\n",
    "                grad_a[j]=grad_a[j]/m\n",
    "            grad_b = grad_b / m\n",
    "            #print(\"gr2\",grad_a,grad_b)\n",
    "            # 梯形下降(梯形负方向,速度下降最快)迭代求符合最小值的a,b\n",
    "            # alpha设置迭代步长,即学习率\n",
    "            for j in range(len(x[i])):\n",
    "                a[j]-=alpha*grad_a[j]\n",
    "            b -= alpha * grad_b\n",
    "\n",
    "            sse = 0\n",
    "            #print(a,b)\n",
    "            for j in range(m):\n",
    "                sum_xw=0\n",
    "                for k in range(len(x[j])):\n",
    "                    sum_xw+=a[k]*x[j][k]\n",
    "                sse += (sum_xw + b - y[j]) ** 2 / m\n",
    "            sse+=sum(norm1(a,Lambda))\n",
    "\n",
    "            # 拟合结果判断相差绝对值\n",
    "            if sse < epsilon:\n",
    "                break\n",
    "            else:\n",
    "                sse2 = sse\n",
    "    #print('{0} * x + {1}'.format(a, b))\n",
    "    #print(sse)\n",
    "    return sse\n"
   ]
  },
  {
   "cell_type": "markdown",
   "id": "95b5901f",
   "metadata": {},
   "source": [
    "<h1>模拟实验</h1>"
   ]
  },
  {
   "cell_type": "code",
   "execution_count": 32,
   "id": "075dbe5a",
   "metadata": {},
   "outputs": [],
   "source": [
    "x = [[1.,1.],[2.,2.], [3.,3.], [4.,4.],[5.,5.]]\n",
    "y = [3., 5., 7., 9., 11.]"
   ]
  },
  {
   "cell_type": "code",
   "execution_count": 33,
   "id": "04d1ea5f",
   "metadata": {
    "scrolled": true
   },
   "outputs": [
    {
     "name": "stdout",
     "output_type": "stream",
     "text": [
      "34.17569529149986\n"
     ]
    }
   ],
   "source": [
    "#未迁移\n",
    "# 目标函数y=2x+1\n",
    "sumx=0\n",
    "for i in range(100):\n",
    "    sumx+=solve_by_gradient(x,y)\n",
    "print(sumx/100)"
   ]
  },
  {
   "cell_type": "code",
   "execution_count": 34,
   "id": "de13387c",
   "metadata": {},
   "outputs": [
    {
     "name": "stdout",
     "output_type": "stream",
     "text": [
      "33.12829401014668\n"
     ]
    }
   ],
   "source": [
    "#迁移五个\n",
    "for i in range(6,11):\n",
    "    x.append([float(i),float(i)])\n",
    "for i in range(6,11):\n",
    "    y.append(float(2*i+1))\n",
    "\n",
    "\n",
    "sumx=0.0\n",
    "for i in range(100):\n",
    "    sumx+=solve_by_gradient(x,y)\n",
    "print(sumx/100)"
   ]
  },
  {
   "cell_type": "code",
   "execution_count": 35,
   "id": "f5e5b6ac",
   "metadata": {},
   "outputs": [
    {
     "name": "stdout",
     "output_type": "stream",
     "text": [
      "11.112408338780718\n"
     ]
    }
   ],
   "source": [
    "#迁移十个\n",
    "for i in range(11,16):\n",
    "    x.append([float(i),float(i)])\n",
    "for i in range(11,16):\n",
    "    y.append(float(2*i+1))\n",
    "\n",
    "\n",
    "sumx=0.0\n",
    "for i in range(100):\n",
    "    sumx+=solve_by_gradient(x,y)\n",
    "print(sumx/100)"
   ]
  },
  {
   "cell_type": "code",
   "execution_count": 36,
   "id": "26d89605",
   "metadata": {},
   "outputs": [
    {
     "name": "stdout",
     "output_type": "stream",
     "text": [
      "1.8909373370345326\n"
     ]
    }
   ],
   "source": [
    "#迁移十五个\n",
    "for i in range(16,21):\n",
    "    x.append([float(i),float(i)])\n",
    "for i in range(16,21):\n",
    "    y.append(float(2*i+1))\n",
    "\n",
    "\n",
    "sumx=0.0\n",
    "for i in range(100):\n",
    "    sumx+=solve_by_gradient(x,y)\n",
    "print(sumx/100)"
   ]
  },
  {
   "cell_type": "code",
   "execution_count": 37,
   "id": "689b266f",
   "metadata": {},
   "outputs": [
    {
     "name": "stdout",
     "output_type": "stream",
     "text": [
      "0.5093407044005585\n"
     ]
    }
   ],
   "source": [
    "#迁移二十个\n",
    "for i in range(21,26):\n",
    "    x.append([float(i),float(i)])\n",
    "for i in range(21,26):\n",
    "    y.append(float(2*i+1))\n",
    "\n",
    "\n",
    "sumx=0.0\n",
    "for i in range(100):\n",
    "    sumx+=solve_by_gradient(x,y)\n",
    "print(sumx/100)"
   ]
  },
  {
   "cell_type": "code",
   "execution_count": null,
   "id": "f80010d9",
   "metadata": {},
   "outputs": [],
   "source": []
  }
 ],
 "metadata": {
  "kernelspec": {
   "display_name": "Python 3 (ipykernel)",
   "language": "python",
   "name": "python3"
  },
  "language_info": {
   "codemirror_mode": {
    "name": "ipython",
    "version": 3
   },
   "file_extension": ".py",
   "mimetype": "text/x-python",
   "name": "python",
   "nbconvert_exporter": "python",
   "pygments_lexer": "ipython3",
   "version": "3.9.7"
  }
 },
 "nbformat": 4,
 "nbformat_minor": 5
}
