{
 "cells": [
  {
   "cell_type": "markdown",
   "id": "0abf6db9",
   "metadata": {},
   "source": [
    "<h1>Transfer learning for regression under differential privacy</h1>"
   ]
  },
  {
   "cell_type": "code",
   "execution_count": 3,
   "id": "d00f2de8",
   "metadata": {},
   "outputs": [],
   "source": [
    "import numpy as np \n",
    "import random"
   ]
  },
  {
   "cell_type": "code",
   "execution_count": 4,
   "id": "7bcfec24",
   "metadata": {
    "scrolled": true
   },
   "outputs": [],
   "source": [
    "# encoding: utf-8\n",
    "\n",
    "alpha = 0.0001\n",
    "Lambda = 0.1\n",
    "epsilon = 1e-8\n",
    "\n",
    "def norm1(w,Lambda):\n",
    "    cnt=[]\n",
    "    for i in w:\n",
    "        cnt.append(Lambda*abs(i))\n",
    "    return cnt\n",
    "\n",
    "def add_laplace_noise(u,b,n):\n",
    "    laplace_noise = np.random.laplace(u,b,n) \n",
    "    return laplace_noise\n",
    "\n",
    "\n",
    "def solve_by_gradient(x,y):\n",
    "\n",
    "    m = len(x)\n",
    "    a, b,= [0 for i in range(len(x[0]))],0\n",
    "    for i in range(50):\n",
    "        grad_a, grad_b = [0 for i in range(len(x[0]))], 0\n",
    "        grad_a+=add_laplace_noise(0,sum(a)/len(a),len(grad_a))\n",
    "        for i in range(m):\n",
    "         \n",
    "            common=0\n",
    "            for j in range(len(x[i])):\n",
    "                common+= a[j] * x[i][j]\n",
    "            common+=b\n",
    "            common-=y[i]\n",
    "            common*=2\n",
    "            #print(common)\n",
    "            for j in range(len(x[i])):\n",
    "                grad_a[j]+=x[i][j] * common\n",
    "            grad_a+=norm1(a,Lambda)\n",
    "            grad_b += common\n",
    "          \n",
    "            for j in range(len(grad_a)):\n",
    "                grad_a[j]=grad_a[j]/m\n",
    "            grad_b = grad_b / m\n",
    "          \n",
    "            for j in range(len(x[i])):\n",
    "                a[j]-=alpha*grad_a[j]\n",
    "            b -= alpha * grad_b\n",
    "\n",
    "            sse = 0\n",
    "          \n",
    "            for j in range(m):\n",
    "                sum_xw=0\n",
    "                for k in range(len(x[j])):\n",
    "                    sum_xw+=a[k]*x[j][k]\n",
    "                sse += (sum_xw + b - y[j]) ** 2 / m\n",
    "            sse+=sum(norm1(a,Lambda))\n",
    "\n",
    "           \n",
    "            if sse < epsilon:\n",
    "                break\n",
    "            else:\n",
    "                sse2 = sse\n",
    "    \n",
    "    return sse\n"
   ]
  },
  {
   "cell_type": "code",
   "execution_count": 5,
   "id": "075dbe5a",
   "metadata": {},
   "outputs": [],
   "source": [
    "x = [[1.,1.],[2.,2.], [3.,3.], [4.,4.],[5.,5.]]\n",
    "y = [3., 5., 7., 9., 11.]"
   ]
  },
  {
   "cell_type": "code",
   "execution_count": 6,
   "id": "04d1ea5f",
   "metadata": {
    "scrolled": true
   },
   "outputs": [
    {
     "name": "stdout",
     "output_type": "stream",
     "text": [
      "sse= 34.17600838726572\n"
     ]
    }
   ],
   "source": [
    "# y=x1+x2+1\n",
    "sumx=0\n",
    "for i in range(100):\n",
    "    sumx+=solve_by_gradient(x,y)\n",
    "print(\"sse=\",sumx/100)"
   ]
  },
  {
   "cell_type": "code",
   "execution_count": 7,
   "id": "de13387c",
   "metadata": {},
   "outputs": [
    {
     "name": "stdout",
     "output_type": "stream",
     "text": [
      "sse= 33.12850750247738\n"
     ]
    }
   ],
   "source": [
    "#Migrate 5\n",
    "for i in range(6,11):\n",
    "    x.append([float(i),float(i)])\n",
    "for i in range(6,11):\n",
    "    y.append(float(2*i+1))\n",
    "\n",
    "\n",
    "sumx=0.0\n",
    "for i in range(100):\n",
    "    sumx+=solve_by_gradient(x,y)\n",
    "print(\"sse=\",sumx/100)"
   ]
  },
  {
   "cell_type": "code",
   "execution_count": 8,
   "id": "f5e5b6ac",
   "metadata": {},
   "outputs": [
    {
     "name": "stdout",
     "output_type": "stream",
     "text": [
      "sse= 11.112354536878925\n"
     ]
    }
   ],
   "source": [
    "#Migrate 10\n",
    "for i in range(11,16):\n",
    "    x.append([float(i),float(i)])\n",
    "for i in range(11,16):\n",
    "    y.append(float(2*i+1))\n",
    "\n",
    "\n",
    "sumx=0.0\n",
    "for i in range(100):\n",
    "    sumx+=solve_by_gradient(x,y)\n",
    "print(\"sse=\",sumx/100)"
   ]
  },
  {
   "cell_type": "code",
   "execution_count": 9,
   "id": "26d89605",
   "metadata": {},
   "outputs": [
    {
     "name": "stdout",
     "output_type": "stream",
     "text": [
      "sse= 1.891078820948065\n"
     ]
    }
   ],
   "source": [
    "#Migrate 15\n",
    "for i in range(16,21):\n",
    "    x.append([float(i),float(i)])\n",
    "for i in range(16,21):\n",
    "    y.append(float(2*i+1))\n",
    "\n",
    "\n",
    "sumx=0.0\n",
    "for i in range(100):\n",
    "    sumx+=solve_by_gradient(x,y)\n",
    "print(\"sse=\",sumx/100)"
   ]
  },
  {
   "cell_type": "code",
   "execution_count": 10,
   "id": "689b266f",
   "metadata": {},
   "outputs": [
    {
     "name": "stdout",
     "output_type": "stream",
     "text": [
      "sse= 0.5093385691711265\n"
     ]
    }
   ],
   "source": [
    "#Migrate 20\n",
    "for i in range(21,26):\n",
    "    x.append([float(i),float(i)])\n",
    "for i in range(21,26):\n",
    "    y.append(float(2*i+1))\n",
    "\n",
    "\n",
    "sumx=0.0\n",
    "for i in range(100):\n",
    "    sumx+=solve_by_gradient(x,y)\n",
    "print(\"sse=\",sumx/100)"
   ]
  }
 ],
 "metadata": {
  "kernelspec": {
   "display_name": "Python 3 (ipykernel)",
   "language": "python",
   "name": "python3"
  },
  "language_info": {
   "codemirror_mode": {
    "name": "ipython",
    "version": 3
   },
   "file_extension": ".py",
   "mimetype": "text/x-python",
   "name": "python",
   "nbconvert_exporter": "python",
   "pygments_lexer": "ipython3",
   "version": "3.9.7"
  }
 },
 "nbformat": 4,
 "nbformat_minor": 5
}
